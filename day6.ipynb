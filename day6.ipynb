{
 "cells": [
  {
   "cell_type": "code",
   "execution_count": 5,
   "metadata": {},
   "outputs": [
    {
     "data": {
      "text/plain": [
       "True"
      ]
     },
     "execution_count": 5,
     "metadata": {},
     "output_type": "execute_result"
    }
   ],
   "source": [
    "#given number is prime number or not\n",
    "def isprime(n):\n",
    "    flag=True\n",
    "    for i in range(2,n//2+1):\n",
    "        if n%i==0:\n",
    "            flag=false\n",
    "            return flag\n",
    "    return flag\n",
    "isprime(11)"
   ]
  },
  {
   "cell_type": "code",
   "execution_count": 14,
   "metadata": {},
   "outputs": [
    {
     "data": {
      "text/plain": [
       "4"
      ]
     },
     "execution_count": 14,
     "metadata": {},
     "output_type": "execute_result"
    }
   ],
   "source": [
    "#function to find prime numbers count from 1 to n\n",
    "#10--4(2,3,5,7)\n",
    "def primecount(n):\n",
    "    cnt=0\n",
    "    for a in range(2,n+1):\n",
    "        k=0\n",
    "        for i in range(2,a//2+1):\n",
    "            if a%i==0:\n",
    "                k=k+1\n",
    "            if(k<=0):\n",
    "                cnt = cnt+1\n",
    "    return cnt\n",
    "primecount(10)"
   ]
  },
  {
   "cell_type": "code",
   "execution_count": 13,
   "metadata": {},
   "outputs": [
    {
     "name": "stdout",
     "output_type": "stream",
     "text": [
      "yes\n",
      "no\n"
     ]
    }
   ],
   "source": [
    "#individual digit factorial sum is same as original number\n",
    "def factorial(n):\n",
    "    fact = 1\n",
    "    for i in range(2,n+1):\n",
    "        fact*=i\n",
    "    return fact\n",
    "def digitfactsum(n):\n",
    "    sum=0\n",
    "    buffer=n\n",
    "    while n!=0:\n",
    "        r=n%10\n",
    "        sum+=factorial(r)\n",
    "        n=n//10\n",
    "    if sum==buffer:\n",
    "        return\"yes\"\n",
    "    else:\n",
    "        return\"no\"\n",
    "    return\n",
    "print(digitfactsum(145))\n",
    "print(digitfactsum(123))"
   ]
  },
  {
   "cell_type": "code",
   "execution_count": 21,
   "metadata": {},
   "outputs": [
    {
     "data": {
      "text/plain": [
       "9"
      ]
     },
     "execution_count": 21,
     "metadata": {},
     "output_type": "execute_result"
    }
   ],
   "source": [
    "#function to return the count of palindrome number two limits\n",
    "def ispalindrome(n):\n",
    "    rev=0\n",
    "    buffer=n\n",
    "    while n!=0:\n",
    "        r=n%10\n",
    "        rev=rev*10+r\n",
    "        n=n//10\n",
    "    if rev==buffer:\n",
    "        return True\n",
    "    else:\n",
    "        return False\n",
    "    return\n",
    "def countpalindrome(lb,ub):\n",
    "    cnt=0\n",
    "    while lb!=ub:\n",
    "        if ispalindrome(lb)==True:\n",
    "            cnt=cnt+1\n",
    "        lb=lb+1\n",
    "    return cnt\n",
    "countpalindrome(1,10)"
   ]
  },
  {
   "cell_type": "code",
   "execution_count": 25,
   "metadata": {},
   "outputs": [
    {
     "name": "stdout",
     "output_type": "stream",
     "text": [
      "6 \n",
      "6 28 496 8128 \n"
     ]
    }
   ],
   "source": [
    "#function to generate the perfect number in a given range\n",
    "def factorlist(n):\n",
    "    sum=0\n",
    "    for i in range(1,n//2+1):\n",
    "        if n%i==0:\n",
    "            sum=sum+i\n",
    "    return sum\n",
    "def isperfect(n):\n",
    "    if factorlist(n)==n:\n",
    "        return True\n",
    "    return False\n",
    "def generateperfect(lb,ub):\n",
    "    for x in range(lb,ub+1):\n",
    "        if isperfect(x):\n",
    "            print(x,end=\" \")\n",
    "    print()\n",
    "    return\n",
    "generateperfect(1,10)\n",
    "generateperfect(1,10000)"
   ]
  },
  {
   "cell_type": "code",
   "execution_count": 27,
   "metadata": {},
   "outputs": [
    {
     "name": "stdout",
     "output_type": "stream",
     "text": [
      "v\n",
      "i\n"
     ]
    }
   ],
   "source": [
    "s1=\"sreevaani\"\n",
    "print(s1[4])\n",
    "print(s1[len(s1)-1])"
   ]
  },
  {
   "cell_type": "code",
   "execution_count": 34,
   "metadata": {},
   "outputs": [
    {
     "name": "stdout",
     "output_type": "stream",
     "text": [
      "i\n",
      "sreevaa\n",
      "inaaveers\n"
     ]
    }
   ],
   "source": [
    "print(s1[-1])\n",
    "print(s1[:-2])\n",
    "print(s1[-1::-1])"
   ]
  },
  {
   "cell_type": "code",
   "execution_count": 39,
   "metadata": {},
   "outputs": [
    {
     "name": "stdout",
     "output_type": "stream",
     "text": [
      "Y H "
     ]
    }
   ],
   "source": [
    "#function to print uppercase characters\n",
    "def printupper(x):\n",
    "    for i in range(len(x)):\n",
    "        if ord(x[i])>=65 and ord(x[i])<=90:\n",
    "            print(x[i],end=\" \")\n",
    "    return\n",
    "printupper(\"pYtHon\")\n"
   ]
  },
  {
   "cell_type": "code",
   "execution_count": 40,
   "metadata": {},
   "outputs": [
    {
     "ename": "SyntaxError",
     "evalue": "unexpected EOF while parsing (<ipython-input-40-6142cda3f60c>, line 8)",
     "output_type": "error",
     "traceback": [
      "\u001b[1;36m  File \u001b[1;32m\"<ipython-input-40-6142cda3f60c>\"\u001b[1;36m, line \u001b[1;32m8\u001b[0m\n\u001b[1;33m    elif ord(str[x]>=97\u001b[0m\n\u001b[1;37m                        ^\u001b[0m\n\u001b[1;31mSyntaxError\u001b[0m\u001b[1;31m:\u001b[0m unexpected EOF while parsing\n"
     ]
    }
   ],
   "source": [
    "#function to print \"SAME COUNT\" If the count of uppercase and lowercase is same\n",
    "def findcount(str):\n",
    "    cntU=0\n",
    "    cntL=0\n",
    "    for x in range(len(str)):\n",
    "        if ord(str[x])>=65 and ord(str[x])<=90:\n",
    "            cntU=cntU+1\n",
    "        elif ord(str[x]>=97 "
   ]
  },
  {
   "cell_type": "code",
   "execution_count": 1,
   "metadata": {},
   "outputs": [
    {
     "ename": "SyntaxError",
     "evalue": "invalid syntax (<ipython-input-1-47d7cab9de1c>, line 3)",
     "output_type": "error",
     "traceback": [
      "\u001b[1;36m  File \u001b[1;32m\"<ipython-input-1-47d7cab9de1c>\"\u001b[1;36m, line \u001b[1;32m3\u001b[0m\n\u001b[1;33m    foor x in range(len(s)):\u001b[0m\n\u001b[1;37m         ^\u001b[0m\n\u001b[1;31mSyntaxError\u001b[0m\u001b[1;31m:\u001b[0m invalid syntax\n"
     ]
    }
   ],
   "source": [
    "def wordupppercase(s):\n",
    "    spacecnt=0\n",
    "    foor x in range(len(s)):\n",
    "        if ord(s[x])==32:'\n",
    "            "
   ]
  },
  {
   "cell_type": "code",
   "execution_count": 2,
   "metadata": {},
   "outputs": [
    {
     "name": "stdout",
     "output_type": "stream",
     "text": [
      "eoiim\n"
     ]
    }
   ],
   "source": [
    "x=\"gitam engineering college\"\n",
    "print(x[len(x)::-5])"
   ]
  },
  {
   "cell_type": "code",
   "execution_count": null,
   "metadata": {},
   "outputs": [],
   "source": []
  }
 ],
 "metadata": {
  "kernelspec": {
   "display_name": "Python 3",
   "language": "python",
   "name": "python3"
  },
  "language_info": {
   "codemirror_mode": {
    "name": "ipython",
    "version": 3
   },
   "file_extension": ".py",
   "mimetype": "text/x-python",
   "name": "python",
   "nbconvert_exporter": "python",
   "pygments_lexer": "ipython3",
   "version": "3.7.3"
  }
 },
 "nbformat": 4,
 "nbformat_minor": 2
}
