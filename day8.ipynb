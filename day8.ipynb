{
 "cells": [
  {
   "cell_type": "code",
   "execution_count": 3,
   "metadata": {},
   "outputs": [
    {
     "ename": "SyntaxError",
     "evalue": "invalid syntax (<ipython-input-3-a235c9b51375>, line 28)",
     "output_type": "error",
     "traceback": [
      "\u001b[1;36m  File \u001b[1;32m\"<ipython-input-3-a235c9b51375>\"\u001b[1;36m, line \u001b[1;32m28\u001b[0m\n\u001b[1;33m    print(l inl )\u001b[0m\n\u001b[1;37m              ^\u001b[0m\n\u001b[1;31mSyntaxError\u001b[0m\u001b[1;31m:\u001b[0m invalid syntax\n"
     ]
    }
   ],
   "source": [
    "l=[1,8,16,9,2]\n",
    "print(l)      #entire list\n",
    "\n",
    "print(l[0])    #0th element\n",
    "\n",
    "print(l[1])    #1st element\n",
    "\n",
    "print(l[-1])   #last element\n",
    "\n",
    "print(l[-2])   #2nd last element\n",
    "\n",
    "print(l[1:])   #list after list element\n",
    "\n",
    "print(l[1:4])   #list b/w.list&last element\n",
    "\n",
    "print(l)      #enter list\n",
    "l[3]=6888    #change index content\n",
    "print(l)      #print new list\n",
    "\n",
    "print(l)       #entire list\n",
    "del l[2]       #delete an element\n",
    "print(l)       #print new list\n",
    "\n",
    "print(len[l])\n",
    "print(l  *  2)\n",
    "print(len[l])\n",
    "print(9 in l)\n",
    "print(l inl )\n"
   ]
  },
  {
   "cell_type": "code",
   "execution_count": 8,
   "metadata": {},
   "outputs": [
    {
     "data": {
      "text/plain": [
       "[88, 44, 33, 22, 24, 8, 7, 6, 5, 4, 3, 1]"
      ]
     },
     "execution_count": 8,
     "metadata": {},
     "output_type": "execute_result"
    }
   ],
   "source": [
    "lst1=[1,2,3,4,5,6,7,8]\n",
    "lst1.append(24)\n",
    "lst1\n",
    "lst1.insert(2,56)\n",
    "lst1\n",
    "lst1.count(8)\n",
    "lst1.count(56)\n",
    "lst1.sort()\n",
    "lst1\n",
    "lst1.pop()\n",
    "lst1\n",
    "lst1.pop(1)\n",
    "lst2=[22,33,44,66,88]\n",
    "lst1.extend(lst2)\n",
    "lst1.reverse()\n",
    "lst1.remove(66)\n",
    "lst1"
   ]
  },
  {
   "cell_type": "code",
   "execution_count": 9,
   "metadata": {},
   "outputs": [
    {
     "data": {
      "text/plain": [
       "18"
      ]
     },
     "execution_count": 9,
     "metadata": {},
     "output_type": "execute_result"
    }
   ],
   "source": [
    "# function to find the second large item from the list\n",
    "# input :[1,19,6,2,18,3]\n",
    "def secondlarge(li):\n",
    "    li.sort()\n",
    "    return li[-2]\n",
    "li = [1,19,6,18,3]\n",
    "secondlarge(li)"
   ]
  },
  {
   "cell_type": "code",
   "execution_count": 14,
   "metadata": {},
   "outputs": [
    {
     "data": {
      "text/plain": [
       "2"
      ]
     },
     "execution_count": 14,
     "metadata": {},
     "output_type": "execute_result"
    }
   ],
   "source": [
    "# function to find the second large item from the list\n",
    "# input :[1,19,6,2,8,18,3]\n",
    "# output : 18\n",
    "def secondlarge(li):\n",
    "    li.sort()\n",
    "    return li[-2]\n",
    "def genericlarge(li,n):\n",
    "    li.sort\n",
    "    return li[-n]\n",
    "li = [1,19,6,2,8,18,3]\n",
    "genericlarge(li,4)"
   ]
  },
  {
   "cell_type": "code",
   "execution_count": 19,
   "metadata": {},
   "outputs": [
    {
     "ename": "SyntaxError",
     "evalue": "invalid syntax (<ipython-input-19-ed40ffb547af>, line 7)",
     "output_type": "error",
     "traceback": [
      "\u001b[1;36m  File \u001b[1;32m\"<ipython-input-19-ed40ffb547af>\"\u001b[1;36m, line \u001b[1;32m7\u001b[0m\n\u001b[1;33m    def genericleast(li,n)\u001b[0m\n\u001b[1;37m                          ^\u001b[0m\n\u001b[1;31mSyntaxError\u001b[0m\u001b[1;31m:\u001b[0m invalid syntax\n"
     ]
    }
   ],
   "source": [
    "# function to find the least item from the list\n",
    "# input : [1,19,6,2,8,18]\n",
    "# output : 2\n",
    "def secondleast(li):\n",
    "    li.sort()\n",
    "    return li[1]\n",
    "def genericleast(li,n)\n",
    "    li.sort()\n",
    "    return li[n-1]\n",
    "li = [1,19,6,2,8,18,3]\n",
    "genericleast(li,4)"
   ]
  },
  {
   "cell_type": "code",
   "execution_count": 1,
   "metadata": {},
   "outputs": [
    {
     "ename": "SyntaxError",
     "evalue": "invalid syntax (<ipython-input-1-49203bc6ad0d>, line 6)",
     "output_type": "error",
     "traceback": [
      "\u001b[1;36m  File \u001b[1;32m\"<ipython-input-1-49203bc6ad0d>\"\u001b[1;36m, line \u001b[1;32m6\u001b[0m\n\u001b[1;33m    def linearsearch6(11):\u001b[0m\n\u001b[1;37m                       ^\u001b[0m\n\u001b[1;31mSyntaxError\u001b[0m\u001b[1;31m:\u001b[0m invalid syntax\n"
     ]
    }
   ],
   "source": [
    "# function\n",
    "# input : list\n",
    "# output : formated output\n",
    "# test cases:\n",
    "# [1,6,9,4,16,19,22]--1 9 19 22\n",
    "def linearsearch6(11):\n",
    "    #implement the logic\n",
    "    for x in range(len(li))-1:\n",
    "        if x==0 or x==len(li)-1:\n",
    "            print(li[x],end=\" \")\n",
    "        elif li[x-1] % 2 == 0 and li[x+1] %2 == 0:\n",
    "            print(li[x],end=\" \")\n",
    "    return\n",
    "li=[1,6,9,4,16,19,22]\n",
    "linearsearch6(li)"
   ]
  },
  {
   "cell_type": "code",
   "execution_count": 10,
   "metadata": {},
   "outputs": [
    {
     "data": {
      "text/plain": [
       "[1, 4, 5, 6, 9]"
      ]
     },
     "execution_count": 10,
     "metadata": {},
     "output_type": "execute_result"
    }
   ],
   "source": [
    "# convert i/p no. to o/p list {i/p=12345678; o/p=[1,2,3,4,5,6,7,8]}\n",
    "def nlc(n):   #nlc=number list conversion\n",
    "    li=[]\n",
    "    while n !=0:\n",
    "        r=n%10\n",
    "        li.append(r)\n",
    "        n=n//10\n",
    "    li.reverse()\n",
    "    return li\n",
    "nlc(14569)"
   ]
  },
  {
   "cell_type": "code",
   "execution_count": 3,
   "metadata": {},
   "outputs": [
    {
     "data": {
      "text/plain": [
       "2"
      ]
     },
     "execution_count": 3,
     "metadata": {},
     "output_type": "execute_result"
    }
   ],
   "source": [
    "def countCharOccurances(s,c):\n",
    "    cnt = 0\n",
    "    for ch in s:\n",
    "        if ch == c:\n",
    "            cnt+= 1\n",
    "    return cnt\n",
    "countCharOccurances(\"python programming\",'m')"
   ]
  },
  {
   "cell_type": "code",
   "execution_count": 18,
   "metadata": {},
   "outputs": [
    {
     "data": {
      "text/plain": [
       "2"
      ]
     },
     "execution_count": 18,
     "metadata": {},
     "output_type": "execute_result"
    }
   ],
   "source": [
    "def countCharOccurances1(s,c):\n",
    "    cnt = 0\n",
    "    for ch in s:\n",
    "        if ch == c:\n",
    "            cnt+= 1\n",
    "    return cnt\n",
    "def countCharOccurances1(s,c):\n",
    "    return s.count(c)\n",
    "countCharOccurances1(\"python programming\",'m')"
   ]
  },
  {
   "cell_type": "code",
   "execution_count": 20,
   "metadata": {},
   "outputs": [
    {
     "data": {
      "text/plain": [
       "[1, 2, 3, 4, 5, 6]"
      ]
     },
     "execution_count": 20,
     "metadata": {},
     "output_type": "execute_result"
    }
   ],
   "source": [
    "# list to str\n",
    "def stlc(s):\n",
    "    li=s.split()\n",
    "    numberslist = []\n",
    "    for i in li:\n",
    "        numberslist.append(int(i))\n",
    "    return numberslist\n",
    "s = \"1 2 3 4 5 6\"\n",
    "stlc(s) #[1,2,3,4,5,6]"
   ]
  },
  {
   "cell_type": "markdown",
   "metadata": {},
   "source": [
    "## sorting\n",
    "- bubble\n",
    "- selection\n",
    "-  insertion"
   ]
  },
  {
   "cell_type": "markdown",
   "metadata": {},
   "source": []
  }
 ],
 "metadata": {
  "kernelspec": {
   "display_name": "Python 3",
   "language": "python",
   "name": "python3"
  },
  "language_info": {
   "codemirror_mode": {
    "name": "ipython",
    "version": 3
   },
   "file_extension": ".py",
   "mimetype": "text/x-python",
   "name": "python",
   "nbconvert_exporter": "python",
   "pygments_lexer": "ipython3",
   "version": "3.7.3"
  }
 },
 "nbformat": 4,
 "nbformat_minor": 2
}
